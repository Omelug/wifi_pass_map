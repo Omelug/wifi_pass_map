{
 "cells": [
  {
   "metadata": {},
   "cell_type": "markdown",
   "source": [
    "This projekt is for vizualizing the data from the various sources for wifi (mainly with passwords)\n",
    "\n",
    "Supported sources: 3WIFI database, pwnagotchi\n",
    "\n",
    "This project is strongly inspirated (or put together from) 3WIFI and pwnmap projects\n",
    "\n",
    "Licence: GPLv3"
   ],
   "id": "52abf0187f624cfe"
  },
  {
   "metadata": {},
   "cell_type": "markdown",
   "source": "### Getting started",
   "id": "fe91679c1025a0a5"
  },
  {
   "metadata": {},
   "cell_type": "code",
   "source": [
    "#set up the environment\n",
    "!python3 -m venv ./.venv\n",
    "!pip install -r requirements.txt"
   ],
   "id": "e6e90249cb62fb0",
   "outputs": [],
   "execution_count": null
  },
  {
   "metadata": {},
   "cell_type": "code",
   "source": [
    "#Map start\n",
    "!source ./.venv/bin/activate\n",
    "!python3 src/main.py"
   ],
   "id": "34c873332753ab64",
   "outputs": [],
   "execution_count": null
  },
  {
   "metadata": {},
   "cell_type": "markdown",
   "source": "User input (like config etc) is stored in map_app/sources/config/* For default values you have to run modules first (tun python3 app.py and go to tolls for example)",
   "id": "ee5d28b0536b6f2f"
  },
  {
   "metadata": {
    "jupyter": {
     "is_executing": true
    },
    "ExecuteTime": {
     "start_time": "2025-02-05T14:14:26.951070Z"
    }
   },
   "cell_type": "code",
   "source": [
    "!pip install requests tqdm\n",
    "import os\n",
    "import math\n",
    "import requests\n",
    "from tqdm import tqdm\n",
    "from concurrent.futures import ThreadPoolExecutor\n",
    "\n",
    "# Function to calculate tile coordinates from latitude and longitude\n",
    "def deg_to_tile(lon, lat, zoom):\n",
    "    x = int((lon + 180.0) / 360.0 * (2 ** zoom))\n",
    "    y = int((1.0 - math.log(math.tan(math.radians(lat)) + 1 / math.cos(math.radians(lat))) / math.pi) / 2 * (2 ** zoom))\n",
    "    return x, y\n",
    "\n",
    "# Function to download a single tile\n",
    "def download_tile(z, x, y, output_dir):\n",
    "    url = f\"https://tile.openstreetmap.org/{z}/{x}/{y}.png\"\n",
    "    output_path = os.path.join(output_dir, str(z), str(x))\n",
    "    os.makedirs(output_path, exist_ok=True)\n",
    "    tile_path = os.path.join(output_path, f\"{y}.png\")\n",
    "\n",
    "    if os.path.exists(tile_path):\n",
    "        return\n",
    "\n",
    "    headers = {\n",
    "        \"User-Agent\": \"MyTileDownloader/1.0 (your_email@example.com)\"  # Replace with your app name and email\n",
    "    }\n",
    "\n",
    "    try:\n",
    "        response = requests.get(url, stream=True, timeout=10, headers=headers)\n",
    "        if response.status_code == 200:\n",
    "            with open(tile_path, 'wb') as f:\n",
    "                for chunk in response.iter_content(1024):\n",
    "                    f.write(chunk)\n",
    "            #print(f\"Downloaded: {url}\")\n",
    "        else:\n",
    "            print(f\"Failed: {url} (Status: {response.status_code})\")\n",
    "    except requests.RequestException as e:\n",
    "        print(f\"Error downloading {url}: {e}\")\n",
    "\n",
    "\n",
    "# Function to download all tiles in a given bounding box\n",
    "def download_tiles(min_zoom, max_zoom, min_lat, max_lat, min_lon, max_lon, output_dir):\n",
    "    for z in range(min_zoom, max_zoom + 1):\n",
    "        x_min, y_min = deg_to_tile(min_lon, max_lat, z)\n",
    "        x_max, y_max = deg_to_tile(max_lon, min_lat, z)\n",
    "\n",
    "        # Use ThreadPoolExecutor for parallel downloads\n",
    "        with ThreadPoolExecutor(max_workers=10) as executor:\n",
    "            futures = []\n",
    "            for x in range(x_min, x_max + 1):\n",
    "                for y in range(y_min, y_max + 1):\n",
    "                    futures.append(executor.submit(download_tile, z, x, y, output_dir))\n",
    "            for future in tqdm(futures, desc=f\"Zoom level {z}\", unit=\"tile\"):\n",
    "                future.result()  # Wait for all downloads to complete\n",
    "\n",
    "if __name__ == \"__main__\":\n",
    "    # Czechia Bounding Box\n",
    "    czechia_min_lat = 48.55\n",
    "    czechia_max_lat = 51.06\n",
    "    czechia_min_lon = 12.09\n",
    "    czechia_max_lon = 18.86\n",
    "\n",
    "    # Albania Bounding Box\n",
    "    albania_min_lat = 39.64\n",
    "    albania_max_lat = 42.65\n",
    "    albania_min_lon = 19.27\n",
    "    albania_max_lon = 21.05\n",
    "\n",
    "    output_dir = \"data/tiles\"  # Unified directory for all tiles\n",
    "\n",
    "    # Download tiles for Czechia\n",
    "    print(\"Downloading tiles for Czechia...\")\n",
    "    download_tiles(16,17, czechia_min_lat, czechia_max_lat, czechia_min_lon, czechia_max_lon, output_dir)\n",
    "\n",
    "    # Download tiles for Albania\n",
    "    #print(\"Downloading tiles for Albania...\")\n",
    "    #download_tiles(10, 15, albania_min_lat, albania_max_lat, albania_min_lon, albania_max_lon, output_dir)\n"
   ],
   "id": "fd82a0f6bff7176d",
   "outputs": [
    {
     "name": "stdout",
     "output_type": "stream",
     "text": [
      "Requirement already satisfied: requests in /home/kali/Desktop/jupyter/datova_analyza/.venv/lib/python3.12/site-packages (2.31.0)\r\n",
      "Requirement already satisfied: tqdm in /home/kali/Desktop/jupyter/datova_analyza/.venv/lib/python3.12/site-packages (4.67.1)\r\n",
      "Requirement already satisfied: charset-normalizer<4,>=2 in /home/kali/Desktop/jupyter/datova_analyza/.venv/lib/python3.12/site-packages (from requests) (3.3.2)\r\n",
      "Requirement already satisfied: idna<4,>=2.5 in /home/kali/Desktop/jupyter/datova_analyza/.venv/lib/python3.12/site-packages (from requests) (3.10)\r\n",
      "Requirement already satisfied: urllib3<3,>=1.21.1 in /home/kali/Desktop/jupyter/datova_analyza/.venv/lib/python3.12/site-packages (from requests) (2.2.3)\r\n",
      "Requirement already satisfied: certifi>=2017.4.17 in /home/kali/Desktop/jupyter/datova_analyza/.venv/lib/python3.12/site-packages (from requests) (2024.8.30)\r\n",
      "\r\n",
      "\u001B[1m[\u001B[0m\u001B[34;49mnotice\u001B[0m\u001B[1;39;49m]\u001B[0m\u001B[39;49m A new release of pip is available: \u001B[0m\u001B[31;49m24.2\u001B[0m\u001B[39;49m -> \u001B[0m\u001B[32;49m25.0\u001B[0m\r\n",
      "\u001B[1m[\u001B[0m\u001B[34;49mnotice\u001B[0m\u001B[1;39;49m]\u001B[0m\u001B[39;49m To update, run: \u001B[0m\u001B[32;49mpip install --upgrade pip\u001B[0m\r\n",
      "Downloading tiles for Czechia...\n"
     ]
    }
   ],
   "execution_count": null
  },
  {
   "metadata": {},
   "cell_type": "code",
   "outputs": [],
   "execution_count": null,
   "source": "",
   "id": "86726c025ccf3f68"
  }
 ],
 "metadata": {
  "kernelspec": {
   "display_name": "Python 3",
   "language": "python",
   "name": "python3"
  },
  "language_info": {
   "codemirror_mode": {
    "name": "ipython",
    "version": 2
   },
   "file_extension": ".py",
   "mimetype": "text/x-python",
   "name": "python",
   "nbconvert_exporter": "python",
   "pygments_lexer": "ipython2",
   "version": "2.7.6"
  }
 },
 "nbformat": 4,
 "nbformat_minor": 5
}
