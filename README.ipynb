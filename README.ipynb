{
 "cells": [
  {
   "metadata": {},
   "cell_type": "markdown",
   "source": [
    "This projekt is for vizualizing the data from the various sources for wifi (mainly with passwords)\n",
    "\n",
    "Supported sources: 3WIFI database, pwnagotchi\n",
    "\n",
    "This project is strongly inspirated (or put together from) 3WIFI and pwnmap projects\n",
    "\n",
    "Licence: GPLv3"
   ],
   "id": "52abf0187f624cfe"
  },
  {
   "metadata": {},
   "cell_type": "markdown",
   "source": "### Getting started",
   "id": "fe91679c1025a0a5"
  },
  {
   "metadata": {},
   "cell_type": "code",
   "outputs": [],
   "execution_count": null,
   "source": [
    "#set up the environment\n",
    "!python3 -m venv ./.venv\n",
    "!pip install -r requirements.txt"
   ],
   "id": "e6e90249cb62fb0"
  },
  {
   "metadata": {
    "ExecuteTime": {
     "end_time": "2024-12-24T10:29:10.756699Z",
     "start_time": "2024-12-24T10:29:10.468825Z"
    }
   },
   "cell_type": "code",
   "source": [
    "#Map start\n",
    "!source ./.venv/bin/activate\n",
    "!python3 src/main.py"
   ],
   "id": "34c873332753ab64",
   "outputs": [
    {
     "name": "stdout",
     "output_type": "stream",
     "text": [
      "zsh:source:1: no such file or directory: ./.venv/bin/activate\r\n",
      "python3: can't open file '/home/kali/Desktop/jupyter/datova_analyza/wifi_pass_map/./src/main.py': [Errno 2] No such file or directory\r\n"
     ]
    }
   ],
   "execution_count": 1
  },
  {
   "metadata": {},
   "cell_type": "markdown",
   "source": "User input (like config etc) is stored in map_app/sources/config/* For default values you have to run modules first (tun python3 app.py and go to tolls for example)",
   "id": "ee5d28b0536b6f2f"
  },
  {
   "metadata": {
    "ExecuteTime": {
     "end_time": "2024-12-30T18:57:32.193518Z",
     "start_time": "2024-12-30T18:56:51.026547Z"
    }
   },
   "cell_type": "code",
   "source": [
    "!pip install requests tqdm\n",
    "\n",
    "#TODo\n",
    "import os\n",
    "import requests\n",
    "from tqdm import tqdm\n",
    "\n",
    "def download_tile(z, x, y, output_dir):\n",
    "    url = f\"https://tile.openstreetmap.org/{z}/{x}/{y}.png\"\n",
    "    absolute_path = os.path.abspath(output_dir)\n",
    "    response = requests.get(url, stream=True)\n",
    "    if response.status_code == 200:\n",
    "        os.makedirs(os.path.join(output_dir, str(z), str(x)), exist_ok=True)\n",
    "\n",
    "        with open(os.path.join(output_dir, str(z), str(x), f\"{y}.png\"), 'wb') as f:\n",
    "            for chunk in response.iter_content(1024):\n",
    "                f.write(chunk)\n",
    "\n",
    "def download_tiles(min_zoom, max_zoom, min_lat, max_lat, min_lon, max_lon, output_dir):\n",
    "    for z in range(min_zoom, max_zoom + 1):\n",
    "        x_min = int((min_lon + 180.0) / 360.0 * (2 ** z))\n",
    "        x_max = int((max_lon + 180.0) / 360.0 * (2 ** z))\n",
    "        y_min = int((1.0 - (min_lat + 90.0) / 180.0) * (2 ** z))\n",
    "        y_max = int((1.0 - (max_lat + 90.0) / 180.0) * (2 ** z))\n",
    "        for x in tqdm(range(x_min, x_max + 1), desc=f\"Zoom level {z}\"):\n",
    "            for y in range(y_min, y_max + 1):\n",
    "                download_tile(z, x, y, output_dir)\n",
    "\n",
    "if __name__ == \"__main__\":\n",
    "    min_zoom = 0\n",
    "    max_zoom = 19\n",
    "    min_lat = 48.474378\n",
    "    max_lat = 51.045193\n",
    "    min_lon = 12.068481\n",
    "    max_lon = 18.860779\n",
    "    output_dir = \"data/tiles\"\n",
    "    download_tiles(min_zoom, max_zoom, min_lat, max_lat, min_lon, max_lon, output_dir)"
   ],
   "id": "fd82a0f6bff7176d",
   "outputs": [
    {
     "name": "stdout",
     "output_type": "stream",
     "text": [
      "Requirement already satisfied: requests in /home/kali/Desktop/jupyter/datova_analyza/.venv/lib/python3.12/site-packages (2.31.0)\r\n",
      "Requirement already satisfied: tqdm in /home/kali/Desktop/jupyter/datova_analyza/.venv/lib/python3.12/site-packages (4.67.1)\r\n",
      "Requirement already satisfied: charset-normalizer<4,>=2 in /home/kali/Desktop/jupyter/datova_analyza/.venv/lib/python3.12/site-packages (from requests) (3.3.2)\r\n",
      "Requirement already satisfied: idna<4,>=2.5 in /home/kali/Desktop/jupyter/datova_analyza/.venv/lib/python3.12/site-packages (from requests) (3.10)\r\n",
      "Requirement already satisfied: urllib3<3,>=1.21.1 in /home/kali/Desktop/jupyter/datova_analyza/.venv/lib/python3.12/site-packages (from requests) (2.2.3)\r\n",
      "Requirement already satisfied: certifi>=2017.4.17 in /home/kali/Desktop/jupyter/datova_analyza/.venv/lib/python3.12/site-packages (from requests) (2024.8.30)\r\n",
      "\r\n",
      "\u001B[1m[\u001B[0m\u001B[34;49mnotice\u001B[0m\u001B[1;39;49m]\u001B[0m\u001B[39;49m A new release of pip is available: \u001B[0m\u001B[31;49m24.2\u001B[0m\u001B[39;49m -> \u001B[0m\u001B[32;49m24.3.1\u001B[0m\r\n",
      "\u001B[1m[\u001B[0m\u001B[34;49mnotice\u001B[0m\u001B[1;39;49m]\u001B[0m\u001B[39;49m To update, run: \u001B[0m\u001B[32;49mpip install --upgrade pip\u001B[0m\r\n"
     ]
    },
    {
     "name": "stderr",
     "output_type": "stream",
     "text": [
      "Zoom level 0: 100%|██████████| 1/1 [00:07<00:00,  7.93s/it]\n",
      "Zoom level 1: 100%|██████████| 1/1 [00:07<00:00,  7.71s/it]\n",
      "Zoom level 2: 100%|██████████| 1/1 [00:08<00:00,  8.16s/it]\n",
      "Zoom level 3: 100%|██████████| 1/1 [00:07<00:00,  7.94s/it]\n",
      "Zoom level 4: 100%|██████████| 1/1 [00:08<00:00,  8.17s/it]\n",
      "Zoom level 5: 100%|██████████| 1/1 [00:00<00:00, 11305.40it/s]\n",
      "Zoom level 6: 100%|██████████| 2/2 [00:00<00:00, 27869.13it/s]\n",
      "Zoom level 7: 100%|██████████| 3/3 [00:00<00:00, 34007.87it/s]\n",
      "Zoom level 8: 100%|██████████| 6/6 [00:00<00:00, 53092.46it/s]\n",
      "Zoom level 9: 100%|██████████| 10/10 [00:00<00:00, 97541.95it/s]\n",
      "Zoom level 10: 100%|██████████| 20/20 [00:00<00:00, 178102.08it/s]\n",
      "Zoom level 11: 100%|██████████| 40/40 [00:00<00:00, 325139.84it/s]\n",
      "Zoom level 12: 100%|██████████| 78/78 [00:00<00:00, 458201.28it/s]\n",
      "Zoom level 13: 100%|██████████| 156/156 [00:00<00:00, 462410.90it/s]\n",
      "Zoom level 14: 100%|██████████| 310/310 [00:00<00:00, 792342.62it/s]\n",
      "Zoom level 15: 100%|██████████| 619/619 [00:00<00:00, 841034.72it/s]\n",
      "Zoom level 16: 100%|██████████| 1238/1238 [00:00<00:00, 717996.18it/s]\n",
      "Zoom level 17: 100%|██████████| 2475/2475 [00:00<00:00, 902216.44it/s]\n",
      "Zoom level 18: 100%|██████████| 4948/4948 [00:00<00:00, 1116315.22it/s]\n",
      "Zoom level 19: 100%|██████████| 9894/9894 [00:00<00:00, 1408015.60it/s]\n"
     ]
    }
   ],
   "execution_count": 10
  }
 ],
 "metadata": {
  "kernelspec": {
   "display_name": "Python 3",
   "language": "python",
   "name": "python3"
  },
  "language_info": {
   "codemirror_mode": {
    "name": "ipython",
    "version": 2
   },
   "file_extension": ".py",
   "mimetype": "text/x-python",
   "name": "python",
   "nbconvert_exporter": "python",
   "pygments_lexer": "ipython2",
   "version": "2.7.6"
  }
 },
 "nbformat": 4,
 "nbformat_minor": 5
}
