{
 "cells": [
  {
   "metadata": {},
   "cell_type": "markdown",
   "source": [
    "This projekt is for vizualizing the data from the various sources for wifi (mainly with passwords)\n",
    "\n",
    "Supported sources: 3WIFI database, pwnagotchi\n",
    "\n",
    "This project is strongly inspirated (or put together from) 3WIFI and pwnmap project\n",
    "\n",
    "Licence: GPLv3"
   ],
   "id": "52abf0187f624cfe"
  },
  {
   "metadata": {},
   "cell_type": "markdown",
   "source": "### Getting started",
   "id": "fe91679c1025a0a5"
  },
  {
   "metadata": {},
   "cell_type": "code",
   "outputs": [],
   "execution_count": null,
   "source": [
    "#set up the environment\n",
    "!python3 -m venv ./.venv\n",
    "!pip install -r requirements.txt"
   ],
   "id": "e6e90249cb62fb0"
  },
  {
   "metadata": {
    "ExecuteTime": {
     "end_time": "2024-12-24T10:29:10.756699Z",
     "start_time": "2024-12-24T10:29:10.468825Z"
    }
   },
   "cell_type": "code",
   "source": [
    "#Map start\n",
    "!source ./.venv/bin/activate\n",
    "!python3 src/main.py"
   ],
   "id": "34c873332753ab64",
   "outputs": [
    {
     "name": "stdout",
     "output_type": "stream",
     "text": [
      "zsh:source:1: no such file or directory: ./.venv/bin/activate\r\n",
      "python3: can't open file '/home/kali/Desktop/jupyter/datova_analyza/wifi_pass_map/./src/main.py': [Errno 2] No such file or directory\r\n"
     ]
    }
   ],
   "execution_count": 1
  },
  {
   "metadata": {},
   "cell_type": "markdown",
   "source": [
    "TODO:\n",
    "\n"
   ],
   "id": "87cf6f3db473c608"
  }
 ],
 "metadata": {
  "kernelspec": {
   "display_name": "Python 3",
   "language": "python",
   "name": "python3"
  },
  "language_info": {
   "codemirror_mode": {
    "name": "ipython",
    "version": 2
   },
   "file_extension": ".py",
   "mimetype": "text/x-python",
   "name": "python",
   "nbconvert_exporter": "python",
   "pygments_lexer": "ipython2",
   "version": "2.7.6"
  }
 },
 "nbformat": 4,
 "nbformat_minor": 5
}
