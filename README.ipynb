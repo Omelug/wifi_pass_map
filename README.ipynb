{
 "cells": [
  {
   "metadata": {},
   "cell_type": "markdown",
   "source": [
    "This projekt is for vizualizing the data from the various sources for wifi (mainly with passwords)\n",
    "\n",
    "Supported sources: 3WIFI database, pwnagotchi\n",
    "\n",
    "This project is strongly inspirated (or put together from) 3WIFI and pwnmap projects\n",
    "\n",
    "Licence: GPLv3"
   ],
   "id": "52abf0187f624cfe"
  },
  {
   "metadata": {},
   "cell_type": "markdown",
   "source": "### Getting started",
   "id": "fe91679c1025a0a5"
  },
  {
   "metadata": {},
   "cell_type": "code",
   "source": [
    "#set up the environment\n",
    "!python3 -m venv ./.venv\n",
    "!pip install -r requirements.txt"
   ],
   "id": "e6e90249cb62fb0",
   "outputs": [],
   "execution_count": null
  },
  {
   "metadata": {},
   "cell_type": "code",
   "source": [
    "#Map start\n",
    "!source ./.venv/bin/activate\n",
    "!python3 src/main.py"
   ],
   "id": "34c873332753ab64",
   "outputs": [],
   "execution_count": null
  },
  {
   "metadata": {},
   "cell_type": "markdown",
   "source": "User input (like config etc) is stored in map_app/sources/config/* For default values you have to run modules first (tun python3 app.py and go to tolls for example)",
   "id": "ee5d28b0536b6f2f"
  },
  {
   "metadata": {},
   "cell_type": "code",
   "source": [
    "!pip install requests tqdm\n",
    "\n",
    "#TODo\n",
    "import os\n",
    "import requests\n",
    "from tqdm import tqdm\n",
    "\n",
    "def download_tile(z, x, y, output_dir):\n",
    "    url = f\"https://tile.openstreetmap.org/{z}/{x}/{y}.png\"\n",
    "    absolute_path = os.path.abspath(output_dir)\n",
    "    response = requests.get(url, stream=True)\n",
    "    if response.status_code == 200:\n",
    "        os.makedirs(os.path.join(output_dir, str(z), str(x)), exist_ok=True)\n",
    "\n",
    "        with open(os.path.join(output_dir, str(z), str(x), f\"{y}.png\"), 'wb') as f:\n",
    "            for chunk in response.iter_content(1024):\n",
    "                f.write(chunk)\n",
    "\n",
    "def download_tiles(min_zoom, max_zoom, min_lat, max_lat, min_lon, max_lon, output_dir):\n",
    "    for z in range(min_zoom, max_zoom + 1):\n",
    "        x_min = int((min_lon + 180.0) / 360.0 * (2 ** z))\n",
    "        x_max = int((max_lon + 180.0) / 360.0 * (2 ** z))\n",
    "        y_min = int((1.0 - (min_lat + 90.0) / 180.0) * (2 ** z))\n",
    "        y_max = int((1.0 - (max_lat + 90.0) / 180.0) * (2 ** z))\n",
    "        for x in tqdm(range(x_min, x_max + 1), desc=f\"Zoom level {z}\"):\n",
    "            for y in range(y_min, y_max + 1):\n",
    "                download_tile(z, x, y, output_dir)\n",
    "\n",
    "if __name__ == \"__main__\":\n",
    "    min_zoom = 0\n",
    "    max_zoom = 19\n",
    "    min_lat = 48.474378\n",
    "    max_lat = 51.045193\n",
    "    min_lon = 12.068481\n",
    "    max_lon = 18.860779\n",
    "    output_dir = \"data/tiles\"\n",
    "    download_tiles(min_zoom, max_zoom, min_lat, max_lat, min_lon, max_lon, output_dir)"
   ],
   "id": "fd82a0f6bff7176d",
   "outputs": [],
   "execution_count": null
  },
  {
   "metadata": {},
   "cell_type": "markdown",
   "source": "",
   "id": "cc43506313194356"
  },
  {
   "metadata": {},
   "cell_type": "code",
   "outputs": [],
   "execution_count": null,
   "source": "",
   "id": "8cbccc52f1312cd5"
  }
 ],
 "metadata": {
  "kernelspec": {
   "display_name": "Python 3",
   "language": "python",
   "name": "python3"
  },
  "language_info": {
   "codemirror_mode": {
    "name": "ipython",
    "version": 2
   },
   "file_extension": ".py",
   "mimetype": "text/x-python",
   "name": "python",
   "nbconvert_exporter": "python",
   "pygments_lexer": "ipython2",
   "version": "2.7.6"
  }
 },
 "nbformat": 4,
 "nbformat_minor": 5
}
