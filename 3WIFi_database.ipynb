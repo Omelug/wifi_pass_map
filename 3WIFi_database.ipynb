{
 "cells": [
  {
   "cell_type": "code",
   "id": "907acefe-8e20-44f8-81db-36788d7522e5",
   "metadata": {},
   "source": [
    "import Flask\n",
    "!pip3 install shapely geopandas geo"
   ],
   "outputs": [],
   "execution_count": null
  },
  {
   "cell_type": "code",
   "id": "b5e26401-bbc8-444d-b78f-21dc89cf4441",
   "metadata": {},
   "source": [
    "# get cordinates - https://www.latlong.net/|\n",
    "DB_USER=\"root\"\n",
    "DB_PASS=\"new_password\"\n",
    "DB_IP=\"localhost\"\n",
    "DB_NAME=\"p3wifi\""
   ],
   "outputs": [],
   "execution_count": null
  },
  {
   "cell_type": "markdown",
   "id": "4f48a88f-1842-4448-a867-dc92312984a7",
   "metadata": {},
   "source": "### Target: get Country Wifi map for specific country from public sources"
  },
  {
   "cell_type": "raw",
   "id": "37fc6941-ae04-4d86-8161-2bdc11ff6239",
   "metadata": {},
   "source": [
    "#Database connection"
   ]
  },
  {
   "cell_type": "code",
   "id": "b44e59ad-eefc-44d6-8006-658144994cd3",
   "metadata": {
    "ExecuteTime": {
     "end_time": "2024-10-25T14:07:28.171273Z",
     "start_time": "2024-10-25T14:07:27.677124Z"
    }
   },
   "source": [
    "import pandas as pd\n",
    "import mysql.connector\n",
    "\n",
    "# Step 1: Retrieve data from MySQL database \n",
    "conn = mysql.connector.connect(\n",
    "    host='localhost',\n",
    "    user='root',\n",
    "    password='new_password',\n",
    "    database='p3wifi',\n",
    "    charset='utf8',\n",
    "    collation='utf8mb4_general_ci'  # Set a compatible collation\n",
    ")\n",
    "if conn.is_connected():\n",
    "    print(\"Connected to MySQL database\")\n",
    "# [longitude, latite]\n",
    "PRAGUE = [14.2517,50.071927]\n",
    "CZECH = {\"latitude\":[48.474378,51.045193], \"longitude\":[12.068481,18.860779]}\n",
    "CZECH_CENTER = [15.227051,49.845776]"
   ],
   "outputs": [
    {
     "name": "stdout",
     "output_type": "stream",
     "text": [
      "Connected to MySQL database\n"
     ]
    }
   ],
   "execution_count": 1
  },
  {
   "metadata": {},
   "cell_type": "markdown",
   "source": "### Way1: SQL database-> CSV",
   "id": "769a9ffe8d15682f"
  },
  {
   "metadata": {},
   "cell_type": "code",
   "source": [
    "# data saved to rectangle aproimation to ../inputs/CZEC_RECT.csv with\n",
    "from sqlalchemy import create_engine\n",
    "import pandas as pd\n",
    "\n",
    "engine = create_engine(\n",
    "    f'mysql+mysqlconnector://{DB_USER}:{DB_PASS}@{DB_IP}/{DB_NAME}',\n",
    "    connect_args={'charset': 'utf8', 'collation': 'utf8mb4_general_ci'}\n",
    ")\n",
    "\n",
    "with open('./get_3wifi_data.sql', 'r') as file:\n",
    "    sql_script = file.read()\n",
    "df = pd.read_sql_query(sql_script, engine)\n",
    "\n",
    "df.to_csv('../inputs/CZEC_RECT.csv', index=False)"
   ],
   "id": "47bf703881f26794",
   "outputs": [],
   "execution_count": null
  },
  {
   "metadata": {},
   "cell_type": "code",
   "source": [
    "#Get Wifi passlist, not unique, not sorted\n",
    "with open('./tmp/Wifi_passlist.txt', 'w') as outfile:\n",
    "    for WifiKey, lon, lat in zip(csv_data['WifiKey'], csv_data['longitude'], csv_data['latitude']):\n",
    "        if WifiKey not in {\"<empty>\", \"nan\",\"<not accessible>\"} and in_polygon(lon, lat):\n",
    "            print(WifiKey, file=outfile)"
   ],
   "id": "8f07c7cad932f51f",
   "outputs": [],
   "execution_count": null
  }
 ],
 "metadata": {
  "kernelspec": {
   "display_name": "Python 3 (ipykernel)",
   "language": "python",
   "name": "python3"
  },
  "language_info": {
   "codemirror_mode": {
    "name": "ipython",
    "version": 3
   },
   "file_extension": ".py",
   "mimetype": "text/x-python",
   "name": "python",
   "nbconvert_exporter": "python",
   "pygments_lexer": "ipython3",
   "version": "3.11.9"
  }
 },
 "nbformat": 4,
 "nbformat_minor": 5
}
