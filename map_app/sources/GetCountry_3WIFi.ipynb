{
 "cells": [
  {
   "cell_type": "code",
   "id": "907acefe-8e20-44f8-81db-36788d7522e5",
   "metadata": {},
   "source": "!pip3 install shapely geopandas geo",
   "outputs": [],
   "execution_count": null
  },
  {
   "cell_type": "code",
   "id": "b5e26401-bbc8-444d-b78f-21dc89cf4441",
   "metadata": {
    "ExecuteTime": {
     "end_time": "2025-02-09T09:56:40.700169Z",
     "start_time": "2025-02-09T09:56:40.690434Z"
    }
   },
   "source": [
    "# Before this you need to have a MySQL database with 3wifi data\n",
    "\n",
    "db_ip=\"localhost\"\n",
    "db_user=\"root\"\n",
    "db_pass=\"new_password\"\n",
    "db_name=\"p3wifi\""
   ],
   "outputs": [],
   "execution_count": 7
  },
  {
   "cell_type": "markdown",
   "id": "4f48a88f-1842-4448-a867-dc92312984a7",
   "metadata": {},
   "source": "### Target: get Country Wifi map for specific country from public sources"
  },
  {
   "metadata": {},
   "cell_type": "markdown",
   "source": "#### Database connection",
   "id": "367b3771c1cdc4ed"
  },
  {
   "cell_type": "code",
   "id": "b44e59ad-eefc-44d6-8006-658144994cd3",
   "metadata": {
    "ExecuteTime": {
     "end_time": "2025-02-09T09:56:27.588423Z",
     "start_time": "2025-02-09T09:56:27.321478Z"
    }
   },
   "source": [
    "import mysql.connector\n",
    "\n",
    "# Step 1: Retrieve data from MySQL database \n",
    "conn = mysql.connector.connect(\n",
    "    host=f'{db_ip}',\n",
    "    user=f'{db_user}',\n",
    "    password=f'{db_pass}',\n",
    "    database=f'{db_name}',\n",
    "    charset='utf8',\n",
    "    collation='utf8mb4_general_ci'  # Set a compatible collation\n",
    ")\n",
    "if conn.is_connected():\n",
    "    print(\"Connected to MySQL database\")\n",
    "\n",
    "# Define country rectangle (Czechia for example)\n",
    "latitude_min = 48.474378\n",
    "latitude_max = 51.045193\n",
    "longitude_min = 12.068481\n",
    "longitude_max = 18.860779\n",
    "\n",
    "country_geojson = '../../data/raw/geoBoundaries-CZE-ADM0.geojson'\n",
    "raw_list = '../../data/clean/Wifi_passlist.txt'"
   ],
   "outputs": [
    {
     "name": "stdout",
     "output_type": "stream",
     "text": [
      "Connected to MySQL database\n"
     ]
    }
   ],
   "execution_count": 5
  },
  {
   "metadata": {},
   "cell_type": "markdown",
   "source": "#### SQL database -> CSV",
   "id": "769a9ffe8d15682f"
  },
  {
   "metadata": {
    "ExecuteTime": {
     "end_time": "2025-02-09T09:58:37.638857Z",
     "start_time": "2025-02-09T09:57:23.213753Z"
    }
   },
   "cell_type": "code",
   "source": [
    "# data saved to rectangle aproimation to ../inputs/COUNTRY_RECT.csv with\n",
    "from sqlalchemy import create_engine\n",
    "import pandas as pd\n",
    "\n",
    "engine = create_engine(\n",
    "    f'mysql+mysqlconnector://{db_user}:{db_pass}@{db_ip}/{db_name}',\n",
    "    connect_args={'charset': 'utf8', 'collation': 'utf8mb4_general_ci'}\n",
    ")\n",
    "\n",
    "sql_query = f\"\"\"\n",
    "SELECT nets.BSSID, ESSID, WifiKey, latitude, longitude\n",
    "FROM nets\n",
    "JOIN geo ON nets.BSSID = geo.BSSID\n",
    "WHERE latitude BETWEEN {latitude_min} AND {latitude_max}\n",
    "AND longitude BETWEEN {longitude_min} AND {longitude_max}\n",
    "\"\"\"\n",
    "df = pd.read_sql_query(sql_query, engine)\n",
    "\n",
    "df.to_csv('../../data/clean/COUNTRY_RECT.csv', index=False)"
   ],
   "id": "47bf703881f26794",
   "outputs": [],
   "execution_count": 8
  },
  {
   "metadata": {
    "ExecuteTime": {
     "end_time": "2025-02-09T10:58:44.109362Z",
     "start_time": "2025-02-09T10:04:13.167318Z"
    }
   },
   "cell_type": "code",
   "source": [
    "import pandas as pd\n",
    "import geopandas as gpd\n",
    "from shapely.geometry import Point\n",
    "\n",
    "# Read the GeoJSON file\n",
    "gdf = gpd.read_file(f\"{country_geojson}\")\n",
    "\n",
    "# Extract the polygon\n",
    "polygon = gdf.geometry.iloc[0]\n",
    "\n",
    "# Read the CSV data\n",
    "csv_data = pd.read_csv('../../data/clean/COUNTRY_RECT.csv')\n",
    "def in_polygon(lon, lat):\n",
    "    point = Point(lon, lat)\n",
    "    return polygon.contains(point)\n",
    "\n",
    "#Get Wifi passlist, not unique, not sorted\n",
    "with open(f\"{raw_list}\", 'w') as outfile:\n",
    "    for WifiKey, lon, lat in zip(csv_data['WifiKey'], csv_data['longitude'], csv_data['latitude']):\n",
    "        if WifiKey not in {\"<empty>\", \"nan\",\"<not accessible>\"} and in_polygon(lon, lat):\n",
    "            print(WifiKey, file=outfile)"
   ],
   "id": "8f07c7cad932f51f",
   "outputs": [],
   "execution_count": 9
  },
  {
   "metadata": {
    "jupyter": {
     "is_executing": true
    }
   },
   "cell_type": "code",
   "source": [
    "!pwd\n",
    "!head ./../../data/clean/Wifi_passlist.txt"
   ],
   "id": "1aa393412fa54f7f",
   "outputs": [],
   "execution_count": null
  },
  {
   "metadata": {
    "ExecuteTime": {
     "end_time": "2025-02-09T11:58:06.079587Z",
     "start_time": "2025-02-09T11:58:05.547130Z"
    }
   },
   "cell_type": "code",
   "source": "!sort ./../../data/clean/Wifi_passlist.txt | uniq -c | sort -nr | awk '{print $2}' > ../../data/clean/Wifi_passlist_sorted_.txt",
   "id": "bde1af4e89875eec",
   "outputs": [],
   "execution_count": 18
  },
  {
   "metadata": {},
   "cell_type": "code",
   "source": [
    "#sorted passwords by count\n",
    "!sort ./../../data/clean/Wifi_passlist.txt | uniq -c | sort -nr > ../../data/clean/Wifi_passlist_sorted.txt"
   ],
   "id": "c8f6d5e88ebf86df",
   "outputs": [],
   "execution_count": null
  }
 ],
 "metadata": {
  "kernelspec": {
   "display_name": "Python 3 (ipykernel)",
   "language": "python",
   "name": "python3"
  },
  "language_info": {
   "codemirror_mode": {
    "name": "ipython",
    "version": 3
   },
   "file_extension": ".py",
   "mimetype": "text/x-python",
   "name": "python",
   "nbconvert_exporter": "python",
   "pygments_lexer": "ipython3",
   "version": "3.11.9"
  }
 },
 "nbformat": 4,
 "nbformat_minor": 5
}
