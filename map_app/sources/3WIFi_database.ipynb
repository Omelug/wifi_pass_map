{
 "cells": [
  {
   "cell_type": "code",
   "id": "907acefe-8e20-44f8-81db-36788d7522e5",
   "metadata": {
    "ExecuteTime": {
     "end_time": "2025-01-22T15:39:21.011644Z",
     "start_time": "2025-01-22T15:39:19.248568Z"
    }
   },
   "source": "!pip3 install shapely geopandas geo\n",
   "outputs": [
    {
     "name": "stdout",
     "output_type": "stream",
     "text": [
      "Requirement already satisfied: shapely in /home/kali/Desktop/jupyter/datova_analyza/.venv/lib/python3.12/site-packages (2.0.6)\r\n",
      "Requirement already satisfied: geopandas in /home/kali/Desktop/jupyter/datova_analyza/.venv/lib/python3.12/site-packages (1.0.1)\r\n",
      "Collecting geo\r\n",
      "  Downloading geo-0.1.1-py3-none-any.whl.metadata (827 bytes)\r\n",
      "Requirement already satisfied: numpy<3,>=1.14 in /home/kali/Desktop/jupyter/datova_analyza/.venv/lib/python3.12/site-packages (from shapely) (2.1.1)\r\n",
      "Requirement already satisfied: pyogrio>=0.7.2 in /home/kali/Desktop/jupyter/datova_analyza/.venv/lib/python3.12/site-packages (from geopandas) (0.9.0)\r\n",
      "Requirement already satisfied: packaging in /home/kali/Desktop/jupyter/datova_analyza/.venv/lib/python3.12/site-packages (from geopandas) (24.1)\r\n",
      "Requirement already satisfied: pandas>=1.4.0 in /home/kali/Desktop/jupyter/datova_analyza/.venv/lib/python3.12/site-packages (from geopandas) (2.2.2)\r\n",
      "Requirement already satisfied: pyproj>=3.3.0 in /home/kali/Desktop/jupyter/datova_analyza/.venv/lib/python3.12/site-packages (from geopandas) (3.6.1)\r\n",
      "Requirement already satisfied: python-dateutil>=2.8.2 in /home/kali/Desktop/jupyter/datova_analyza/.venv/lib/python3.12/site-packages (from pandas>=1.4.0->geopandas) (2.9.0.post0)\r\n",
      "Requirement already satisfied: pytz>=2020.1 in /home/kali/Desktop/jupyter/datova_analyza/.venv/lib/python3.12/site-packages (from pandas>=1.4.0->geopandas) (2024.2)\r\n",
      "Requirement already satisfied: tzdata>=2022.7 in /home/kali/Desktop/jupyter/datova_analyza/.venv/lib/python3.12/site-packages (from pandas>=1.4.0->geopandas) (2024.1)\r\n",
      "Requirement already satisfied: certifi in /home/kali/Desktop/jupyter/datova_analyza/.venv/lib/python3.12/site-packages (from pyogrio>=0.7.2->geopandas) (2024.8.30)\r\n",
      "Requirement already satisfied: six>=1.5 in /home/kali/Desktop/jupyter/datova_analyza/.venv/lib/python3.12/site-packages (from python-dateutil>=2.8.2->pandas>=1.4.0->geopandas) (1.16.0)\r\n",
      "Downloading geo-0.1.1-py3-none-any.whl (5.4 kB)\r\n",
      "Installing collected packages: geo\r\n",
      "Successfully installed geo-0.1.1\r\n",
      "\r\n",
      "\u001B[1m[\u001B[0m\u001B[34;49mnotice\u001B[0m\u001B[1;39;49m]\u001B[0m\u001B[39;49m A new release of pip is available: \u001B[0m\u001B[31;49m24.2\u001B[0m\u001B[39;49m -> \u001B[0m\u001B[32;49m24.3.1\u001B[0m\r\n",
      "\u001B[1m[\u001B[0m\u001B[34;49mnotice\u001B[0m\u001B[1;39;49m]\u001B[0m\u001B[39;49m To update, run: \u001B[0m\u001B[32;49mpip install --upgrade pip\u001B[0m\r\n"
     ]
    }
   ],
   "execution_count": 2
  },
  {
   "cell_type": "code",
   "id": "b5e26401-bbc8-444d-b78f-21dc89cf4441",
   "metadata": {
    "ExecuteTime": {
     "end_time": "2025-01-22T15:39:22.222782Z",
     "start_time": "2025-01-22T15:39:22.218273Z"
    }
   },
   "source": [
    "# get cordinates - https://www.latlong.net/|\n",
    "db_ip=\"localhost\"\n",
    "db_user=\"root\"\n",
    "db_pass=\"new_password\"\n",
    "db_name=\"p3wifi\""
   ],
   "outputs": [],
   "execution_count": 3
  },
  {
   "cell_type": "markdown",
   "id": "4f48a88f-1842-4448-a867-dc92312984a7",
   "metadata": {},
   "source": "### Target: get Country Wifi map for specific country from public sources"
  },
  {
   "metadata": {},
   "cell_type": "markdown",
   "source": "#### Database connection",
   "id": "367b3771c1cdc4ed"
  },
  {
   "cell_type": "code",
   "id": "b44e59ad-eefc-44d6-8006-658144994cd3",
   "metadata": {
    "ExecuteTime": {
     "end_time": "2025-01-22T15:39:24.947718Z",
     "start_time": "2025-01-22T15:39:24.868488Z"
    }
   },
   "source": [
    "import mysql.connector\n",
    "\n",
    "# Step 1: Retrieve data from MySQL database \n",
    "conn = mysql.connector.connect(\n",
    "    host=f'{db_ip}',\n",
    "    user=f'{db_user}',\n",
    "    password=f'{db_pass}',\n",
    "    database=f'{db_name}',\n",
    "    charset='utf8',\n",
    "    collation='utf8mb4_general_ci'  # Set a compatible collation\n",
    ")\n",
    "if conn.is_connected():\n",
    "    print(\"Connected to MySQL database\")\n",
    "\n",
    "# [longitude, latite]\n",
    "CZECH = {\"latitude\":[48.474378,51.045193], \"longitude\":[12.068481,18.860779]}"
   ],
   "outputs": [
    {
     "name": "stdout",
     "output_type": "stream",
     "text": [
      "Connected to MySQL database\n"
     ]
    }
   ],
   "execution_count": 4
  },
  {
   "metadata": {},
   "cell_type": "markdown",
   "source": "#### SQL database -> CSV",
   "id": "769a9ffe8d15682f"
  },
  {
   "metadata": {
    "ExecuteTime": {
     "end_time": "2025-01-22T15:39:28.583012Z",
     "start_time": "2025-01-22T15:39:27.996495Z"
    }
   },
   "cell_type": "code",
   "source": [
    "# data saved to rectangle aproimation to ../inputs/CZEC_RECT.csv with\n",
    "from sqlalchemy import create_engine\n",
    "import pandas as pd\n",
    "\n",
    "engine = create_engine(\n",
    "    f'mysql+mysqlconnector://{db_user}:{db_pass}@{db_ip}/{db_name}',\n",
    "    connect_args={'charset': 'utf8', 'collation': 'utf8mb4_general_ci'}\n",
    ")\n",
    "\n",
    "with open('./get_3wifi_data.sql', 'r') as file:\n",
    "    sql_script = file.read()\n",
    "df = pd.read_sql_query(sql_script, engine)\n",
    "\n",
    "df.to_csv('../../data/clean/CZECH2_RECT.csv', index=False)"
   ],
   "id": "47bf703881f26794",
   "outputs": [],
   "execution_count": 5
  },
  {
   "metadata": {
    "ExecuteTime": {
     "end_time": "2025-01-22T15:44:49.909097Z",
     "start_time": "2025-01-22T15:44:46.447756Z"
    }
   },
   "cell_type": "code",
   "source": [
    "import pandas as pd\n",
    "from shapely.geometry import Point, Polygon\n",
    "\n",
    "\n",
    "import geopandas as gpd\n",
    "from shapely.geometry import Point\n",
    "\n",
    "# Read the GeoJSON file\n",
    "gdf = gpd.read_file('../../data/raw/geoBoundaries-CZE-ADM0.geojson')\n",
    "\n",
    "# Extract the polygon\n",
    "polygon = gdf.geometry.iloc[0]\n",
    "\n",
    "# Read the CSV data\n",
    "csv_data = pd.read_csv('../../data/clean/CZECH2_RECT.csv')\n",
    "def in_polygon(lon, lat):\n",
    "    point = Point(lon, lat)\n",
    "    return polygon.contains(point)\n",
    "\n",
    "#Get Wifi passlist, not unique, not sorted\n",
    "with open('../../data/clean/Wifi_passlist.txt', 'w') as outfile:\n",
    "    for WifiKey, lon, lat in zip(csv_data['WifiKey'], csv_data['longitude'], csv_data['latitude']):\n",
    "        if WifiKey not in {\"<empty>\", \"nan\",\"<not accessible>\"} and in_polygon(lon, lat):\n",
    "            print(WifiKey, file=outfile)"
   ],
   "id": "8f07c7cad932f51f",
   "outputs": [],
   "execution_count": 13
  },
  {
   "metadata": {
    "ExecuteTime": {
     "end_time": "2025-01-22T15:40:59.678758Z",
     "start_time": "2025-01-22T15:40:59.675137Z"
    }
   },
   "cell_type": "code",
   "source": "",
   "id": "1aa393412fa54f7f",
   "outputs": [],
   "execution_count": null
  },
  {
   "metadata": {},
   "cell_type": "code",
   "outputs": [],
   "execution_count": null,
   "source": "",
   "id": "bde1af4e89875eec"
  }
 ],
 "metadata": {
  "kernelspec": {
   "display_name": "Python 3 (ipykernel)",
   "language": "python",
   "name": "python3"
  },
  "language_info": {
   "codemirror_mode": {
    "name": "ipython",
    "version": 3
   },
   "file_extension": ".py",
   "mimetype": "text/x-python",
   "name": "python",
   "nbconvert_exporter": "python",
   "pygments_lexer": "ipython3",
   "version": "3.11.9"
  }
 },
 "nbformat": 4,
 "nbformat_minor": 5
}
